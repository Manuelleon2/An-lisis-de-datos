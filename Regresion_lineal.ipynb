{
 "cells": [
  {
   "cell_type": "code",
   "execution_count": 6,
   "id": "dff90e5e-9f66-454a-9cd5-c5a0bd6ec440",
   "metadata": {},
   "outputs": [],
   "source": [
    "import pandas as pd\n",
    "import matplotlib.pyplot as plt\n",
    "import seaborn as sns\n",
    "from sklearn.model_selection import train_test_split\n",
    "from sklearn.linear_model import LinearRegression"
   ]
  },
  {
   "cell_type": "code",
   "execution_count": 7,
   "id": "fafdc62c-a101-498f-9ca9-f94f535cb7cb",
   "metadata": {},
   "outputs": [],
   "source": [
    "# Cargar datos\n",
    "data = pd.read_csv('vehicle_dataset.csv')"
   ]
  },
  {
   "cell_type": "code",
   "execution_count": null,
   "id": "d66106a7-5623-4842-ad54-708eaa7c30a1",
   "metadata": {},
   "outputs": [],
   "source": [
    "# Visualización de la relación entre las características y la variable objetivo\n",
    "sns.pairplot(data)\n",
    "plt.show()"
   ]
  },
  {
   "cell_type": "code",
   "execution_count": null,
   "id": "358c5a2c-ff69-4851-b2e4-b26a8485f829",
   "metadata": {},
   "outputs": [],
   "source": [
    "# Definir X como las características y y como la variable objetivo\n",
    "X = data.drop('price', axis=1)\n",
    "y = data['price']"
   ]
  },
  {
   "cell_type": "code",
   "execution_count": null,
   "id": "f09a9981-1f07-4364-81f6-a0265c7e79f4",
   "metadata": {},
   "outputs": [],
   "source": [
    "# Dividir datos en entrenamiento y prueba\n",
    "X_train, X_test, y_train, y_test = train_test_split(X, y, test_size=0.2, random_state=42)\n"
   ]
  },
  {
   "cell_type": "code",
   "execution_count": null,
   "id": "d81dcfc0-13fe-4f3e-acb5-ca8cf07653a5",
   "metadata": {},
   "outputs": [],
   "source": [
    "# Inicializar y entrenar modelo de regresión lineal\n",
    "model = LinearRegression()\n",
    "model.fit(X_train, y_train)"
   ]
  },
  {
   "cell_type": "code",
   "execution_count": null,
   "id": "144850a0-70a5-40c0-ba84-3f8c1fbf4705",
   "metadata": {},
   "outputs": [],
   "source": [
    "# Visualización de los coeficientes de la regresión\n",
    "plt.bar(X.columns, model.coef_)\n",
    "plt.xlabel('Características')\n",
    "plt.ylabel('Coeficientes')\n",
    "plt.title('Coeficientes de Regresión Lineal')\n",
    "plt.xticks(rotation=45)\n",
    "plt.show()"
   ]
  },
  {
   "cell_type": "code",
   "execution_count": null,
   "id": "0fdf04cf-bb5b-46c0-9aa7-11b403cce8a5",
   "metadata": {},
   "outputs": [],
   "source": []
  }
 ],
 "metadata": {
  "kernelspec": {
   "display_name": "Python 3 (ipykernel)",
   "language": "python",
   "name": "python3"
  },
  "language_info": {
   "codemirror_mode": {
    "name": "ipython",
    "version": 3
   },
   "file_extension": ".py",
   "mimetype": "text/x-python",
   "name": "python",
   "nbconvert_exporter": "python",
   "pygments_lexer": "ipython3",
   "version": "3.11.7"
  }
 },
 "nbformat": 4,
 "nbformat_minor": 5
}
