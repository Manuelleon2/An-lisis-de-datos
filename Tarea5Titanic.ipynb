{
 "cells": [
  {
   "cell_type": "code",
   "execution_count": null,
   "id": "32631f00-72fc-42ab-9140-e7dc05bc4574",
   "metadata": {},
   "outputs": [],
   "source": [
    "import pandas as pd\n",
    "import numpy as np\n",
    "import matplotlib.pyplot as plt\n",
    "import seaborn as sns\n",
    "from sklearn.model_selection import train_test_split\n",
    "from sklearn.preprocessing import StandardScaler\n",
    "from sklearn.linear_model import LogisticRegression\n",
    "from sklearn.metrics import accuracy_score, confusion_matrix, classification_report"
   ]
  },
  {
   "cell_type": "code",
   "execution_count": null,
   "id": "2a198b48-62f9-4a60-a848-34f868566f4b",
   "metadata": {},
   "outputs": [],
   "source": [
    "# Cargar el dataset\n",
    "data = pd.read_csv('titanic_dataset.csv')"
   ]
  },
  {
   "cell_type": "code",
   "execution_count": null,
   "id": "ef340f49-21ab-41fc-8b3a-5e975b62a413",
   "metadata": {},
   "outputs": [],
   "source": [
    "# Visualizar las primeras filas del dataset\n",
    "print(data.head())"
   ]
  },
  {
   "cell_type": "code",
   "execution_count": null,
   "id": "a43508a7-cba4-4c0b-a3be-459796565d3d",
   "metadata": {},
   "outputs": [],
   "source": [
    "# Eliminar variables irrelevantes o con muchos valores faltantes\n",
    "data.drop(['Name', 'Ticket', 'Cabin', 'PassengerId'], axis=1, inplace=True)"
   ]
  },
  {
   "cell_type": "code",
   "execution_count": null,
   "id": "a8220103-6ed1-4c9f-9ba5-278892825ac8",
   "metadata": {},
   "outputs": [],
   "source": [
    "# Reemplazar valores faltantes en 'Age' con la mediana\n",
    "data['Age'].fillna(data['Age'].median(), inplace=True)"
   ]
  },
  {
   "cell_type": "code",
   "execution_count": null,
   "id": "3819a57d-e473-40be-a391-d8921c1b95b8",
   "metadata": {},
   "outputs": [],
   "source": [
    "# Convertir variables categóricas en variables dummy\n",
    "data = pd.get_dummies(data, columns=['Sex', 'Embarked'], drop_first=True)"
   ]
  },
  {
   "cell_type": "code",
   "execution_count": null,
   "id": "d2f1c49c-5226-41a3-b15a-609c1d499f6e",
   "metadata": {},
   "outputs": [],
   "source": [
    "# Dividir el dataset en variables independientes (X) y dependiente (y)\n",
    "X = data.drop('Survived', axis=1)\n",
    "y = data['Survived']"
   ]
  },
  {
   "cell_type": "code",
   "execution_count": null,
   "id": "c4b79fce-4139-4ca5-a12e-ea2bbfe15b27",
   "metadata": {},
   "outputs": [],
   "source": [
    "# Dividir el dataset en conjuntos de entrenamiento y prueba\n",
    "X_train, X_test, y_train, y_test = train_test_split(X, y, test_size=0.2, random_state=42)\n"
   ]
  },
  {
   "cell_type": "code",
   "execution_count": null,
   "id": "4c52fb05-1739-4426-b53d-f79a2dc62b70",
   "metadata": {},
   "outputs": [],
   "source": [
    "# Escalar las características\n",
    "scaler = StandardScaler()\n",
    "X_train = scaler.fit_transform(X_train)\n",
    "X_test = scaler.transform(X_test)"
   ]
  },
  {
   "cell_type": "code",
   "execution_count": null,
   "id": "348409e4-64a0-4927-a136-bc3ff7c0f178",
   "metadata": {},
   "outputs": [],
   "source": [
    "# Inicializar y entrenar el modelo de regresión logística\n",
    "model = LogisticRegression()\n",
    "model.fit(X_train, y_train)"
   ]
  },
  {
   "cell_type": "code",
   "execution_count": null,
   "id": "363a1f36-f842-483e-9ed1-6e857059c446",
   "metadata": {},
   "outputs": [],
   "source": [
    "# Predecir en el conjunto de prueba\n",
    "y_pred = model.predict(X_test)"
   ]
  },
  {
   "cell_type": "code",
   "execution_count": null,
   "id": "113f31a4-64ae-426a-b5eb-8a5bb6b68d5c",
   "metadata": {},
   "outputs": [],
   "source": [
    "# Evaluar el desempeño del modelo\n",
    "accuracy = accuracy_score(y_test, y_pred)\n",
    "print(\"Accuracy:\", accuracy)"
   ]
  },
  {
   "cell_type": "code",
   "execution_count": null,
   "id": "0ef87d1a-b43e-4623-ab10-dbcc5877459c",
   "metadata": {},
   "outputs": [],
   "source": [
    "# Matriz de confusión\n",
    "conf_matrix = confusion_matrix(y_test, y_pred)\n",
    "print(\"Confusion Matrix:\\n\", conf_matrix)"
   ]
  },
  {
   "cell_type": "code",
   "execution_count": null,
   "id": "d99ca7ee-e4cc-4ef1-979e-112665f8fd30",
   "metadata": {},
   "outputs": [],
   "source": [
    "# Reporte de clasificación\n",
    "class_report = classification_report(y_test, y_pred)\n",
    "print(\"Classification Report:\\n\", class_report)"
   ]
  },
  {
   "cell_type": "code",
   "execution_count": null,
   "id": "b53af418-6b70-4bc8-b90e-67a55dee2d02",
   "metadata": {},
   "outputs": [],
   "source": []
  }
 ],
 "metadata": {
  "kernelspec": {
   "display_name": "Python 3 (ipykernel)",
   "language": "python",
   "name": "python3"
  },
  "language_info": {
   "codemirror_mode": {
    "name": "ipython",
    "version": 3
   },
   "file_extension": ".py",
   "mimetype": "text/x-python",
   "name": "python",
   "nbconvert_exporter": "python",
   "pygments_lexer": "ipython3",
   "version": "3.11.7"
  }
 },
 "nbformat": 4,
 "nbformat_minor": 5
}
