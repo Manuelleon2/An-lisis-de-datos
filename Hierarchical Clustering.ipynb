{
 "cells": [
  {
   "cell_type": "code",
   "execution_count": null,
   "id": "5bf27f43-54fd-46ae-b1db-ed7b9733c822",
   "metadata": {},
   "outputs": [],
   "source": [
    "import pandas as pd\n",
    "import matplotlib.pyplot as plt\n",
    "import scipy.cluster.hierarchy as shc"
   ]
  },
  {
   "cell_type": "code",
   "execution_count": null,
   "id": "64a09ff9-a7f9-40f7-af26-ebc8b31b7b7f",
   "metadata": {},
   "outputs": [],
   "source": [
    "# Cargar datos\n",
    "data = pd.read_csv('Mall_Customers.csv')\n"
   ]
  },
  {
   "cell_type": "code",
   "execution_count": null,
   "id": "76c83c27-e7e0-4c2c-8359-b01803daeb24",
   "metadata": {},
   "outputs": [],
   "source": [
    "# Seleccionar características relevantes\n",
    "X = data[['Annual Income (k$)', 'Spending Score (1-100)']]"
   ]
  },
  {
   "cell_type": "code",
   "execution_count": null,
   "id": "abd1f681-75b8-4807-8d0b-5ce6e78c54cc",
   "metadata": {},
   "outputs": [],
   "source": [
    "# Calcular la matriz de enlace\n",
    "plt.figure(figsize=(10, 7))\n",
    "plt.title('Dendrograma')\n",
    "dend = shc.dendrogram(shc.linkage(X, method='ward'))\n",
    "plt.xlabel('Clientes')\n",
    "plt.ylabel('Distancia Euclidiana')\n",
    "plt.show()"
   ]
  }
 ],
 "metadata": {
  "kernelspec": {
   "display_name": "Python 3 (ipykernel)",
   "language": "python",
   "name": "python3"
  },
  "language_info": {
   "codemirror_mode": {
    "name": "ipython",
    "version": 3
   },
   "file_extension": ".py",
   "mimetype": "text/x-python",
   "name": "python",
   "nbconvert_exporter": "python",
   "pygments_lexer": "ipython3",
   "version": "3.11.7"
  }
 },
 "nbformat": 4,
 "nbformat_minor": 5
}
