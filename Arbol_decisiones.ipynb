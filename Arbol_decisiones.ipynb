{
 "cells": [
  {
   "cell_type": "code",
   "execution_count": null,
   "id": "4deb85e3-cfd3-4881-9877-089902b27d2c",
   "metadata": {},
   "outputs": [],
   "source": [
    "import pandas as pd\n",
    "import matplotlib.pyplot as plt\n",
    "import seaborn as sns\n",
    "from sklearn.model_selection import train_test_split\n",
    "from sklearn.tree import DecisionTreeClassifier\n",
    "from sklearn.tree import plot_tree"
   ]
  },
  {
   "cell_type": "code",
   "execution_count": null,
   "id": "9e568ef7-19f1-412d-bf06-5ca188069015",
   "metadata": {},
   "outputs": [],
   "source": [
    "# Cargar datos\n",
    "data = pd.read_csv('red_wine_quality_dataset.csv')"
   ]
  },
  {
   "cell_type": "code",
   "execution_count": null,
   "id": "ae0fce8d-8a04-40e6-9aae-b958d1a7ce93",
   "metadata": {},
   "outputs": [],
   "source": [
    "# Visualización de la distribución de la variable objetivo\n",
    "sns.countplot(data['quality'])\n",
    "plt.xlabel('Calidad del vino')\n",
    "plt.ylabel('Frecuencia')\n",
    "plt.title('Distribución de la variable objetivo')\n",
    "plt.show()"
   ]
  },
  {
   "cell_type": "code",
   "execution_count": null,
   "id": "4f7700b9-4a79-4acf-aad4-fad97624d24d",
   "metadata": {},
   "outputs": [],
   "source": [
    "# Dividir datos en características y variable objetivo\n",
    "X = data.drop('quality', axis=1)\n",
    "y = data['quality']"
   ]
  },
  {
   "cell_type": "code",
   "execution_count": null,
   "id": "710b60b5-27c7-4fc1-b8f5-8710609b1cf6",
   "metadata": {},
   "outputs": [],
   "source": [
    "# Dividir datos en entrenamiento y prueba\n",
    "X_train, X_test, y_train, y_test = train_test_split(X, y, test_size=0.2, random_state=42)\n"
   ]
  },
  {
   "cell_type": "code",
   "execution_count": null,
   "id": "524bf20f-223d-4aa0-b814-c9d75fe1300a",
   "metadata": {},
   "outputs": [],
   "source": [
    "# Inicializar y entrenar modelo de árboles de decisión\n",
    "model = DecisionTreeClassifier()\n",
    "model.fit(X_train, y_train)"
   ]
  },
  {
   "cell_type": "code",
   "execution_count": null,
   "id": "9aa230c4-421a-4977-98aa-b877b969c8c5",
   "metadata": {},
   "outputs": [],
   "source": [
    "# Visualización del árbol de decisión\n",
    "plt.figure(figsize=(15,10))\n",
    "plot_tree(model, filled=True, feature_names=X.columns, class_names=data['quality'].unique())\n",
    "plt.show()"
   ]
  }
 ],
 "metadata": {
  "kernelspec": {
   "display_name": "Python 3 (ipykernel)",
   "language": "python",
   "name": "python3"
  },
  "language_info": {
   "codemirror_mode": {
    "name": "ipython",
    "version": 3
   },
   "file_extension": ".py",
   "mimetype": "text/x-python",
   "name": "python",
   "nbconvert_exporter": "python",
   "pygments_lexer": "ipython3",
   "version": "3.11.7"
  }
 },
 "nbformat": 4,
 "nbformat_minor": 5
}
