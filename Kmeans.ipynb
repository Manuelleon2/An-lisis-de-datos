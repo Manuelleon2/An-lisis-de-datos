{
 "cells": [
  {
   "cell_type": "code",
   "execution_count": null,
   "id": "a0a8a18b-28e8-4df8-a0ed-2a95c5f6d8ae",
   "metadata": {},
   "outputs": [],
   "source": [
    "import pandas as pd\n",
    "import matplotlib.pyplot as plt\n",
    "from sklearn.cluster import KMeans\n"
   ]
  },
  {
   "cell_type": "code",
   "execution_count": null,
   "id": "5c1a3e96-5135-4af4-b8cf-16f4f3dd17c0",
   "metadata": {},
   "outputs": [],
   "source": [
    "# Cargar datos\n",
    "data = pd.read_csv('Mall_Customers.csv')"
   ]
  },
  {
   "cell_type": "code",
   "execution_count": null,
   "id": "b6c4227b-224a-4544-a50f-66a71d5b57b0",
   "metadata": {},
   "outputs": [],
   "source": [
    "# Seleccionar características relevantes\n",
    "X = data[['Annual Income (k$)', 'Spending Score (1-100)']]"
   ]
  },
  {
   "cell_type": "code",
   "execution_count": null,
   "id": "4eef76d6-cac2-4c0e-b943-2da41d6d4ab7",
   "metadata": {},
   "outputs": [],
   "source": [
    "# Entrenar el modelo\n",
    "kmeans = KMeans(n_clusters=5, random_state=42)\n",
    "kmeans.fit(X)"
   ]
  },
  {
   "cell_type": "code",
   "execution_count": null,
   "id": "2b047be3-9f2c-4ece-a234-7202ce3d486b",
   "metadata": {},
   "outputs": [],
   "source": [
    "# Etiquetar los clusters\n",
    "labels = kmeans.labels_"
   ]
  },
  {
   "cell_type": "code",
   "execution_count": null,
   "id": "27473833-5bb6-4a0d-9921-355ae0a033e5",
   "metadata": {},
   "outputs": [],
   "source": [
    "# Visualizar los resultados\n",
    "plt.figure(figsize=(10, 6))\n",
    "plt.scatter(X.iloc[:, 0], X.iloc[:, 1], c=labels, cmap='viridis')\n",
    "plt.scatter(kmeans.cluster_centers_[:, 0], kmeans.cluster_centers_[:, 1], s=300, c='red', label='Centroids')\n",
    "plt.xlabel('Ingreso Anual (k$)')\n",
    "plt.ylabel('Puntuación de Gasto (1-100)')\n",
    "plt.title('Clustering de clientes')\n",
    "plt.legend()\n",
    "plt.show()"
   ]
  }
 ],
 "metadata": {
  "kernelspec": {
   "display_name": "Python 3 (ipykernel)",
   "language": "python",
   "name": "python3"
  },
  "language_info": {
   "codemirror_mode": {
    "name": "ipython",
    "version": 3
   },
   "file_extension": ".py",
   "mimetype": "text/x-python",
   "name": "python",
   "nbconvert_exporter": "python",
   "pygments_lexer": "ipython3",
   "version": "3.11.7"
  }
 },
 "nbformat": 4,
 "nbformat_minor": 5
}
