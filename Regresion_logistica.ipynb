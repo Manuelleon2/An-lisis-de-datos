{
 "cells": [
  {
   "cell_type": "code",
   "execution_count": null,
   "id": "b1bd12d0-c6a7-4b99-bea7-944bf51cfff6",
   "metadata": {},
   "outputs": [],
   "source": [
    "import pandas as pd\n",
    "import matplotlib.pyplot as plt\n",
    "import seaborn as sns\n",
    "from sklearn.model_selection import train_test_split\n",
    "from sklearn.linear_model import LogisticRegression"
   ]
  },
  {
   "cell_type": "code",
   "execution_count": null,
   "id": "eb0d8786-1da7-487d-8268-7111fbd9bbc0",
   "metadata": {},
   "outputs": [],
   "source": [
    "# Cargar datos\n",
    "data = pd.read_csv('heart_disease_dataset.csv')"
   ]
  },
  {
   "cell_type": "code",
   "execution_count": null,
   "id": "64daa966-dca5-4b37-a8fc-beb7ac07cc62",
   "metadata": {},
   "outputs": [],
   "source": [
    "# Visualización de la distribución de la variable objetivo\n",
    "sns.countplot(data['target'])\n",
    "plt.xlabel('Presencia de enfermedad cardíaca')\n",
    "plt.ylabel('Frecuencia')\n",
    "plt.title('Distribución de la variable objetivo')\n",
    "plt.show()"
   ]
  },
  {
   "cell_type": "code",
   "execution_count": null,
   "id": "923d109c-b41c-4236-af03-51c1a3a7e0d0",
   "metadata": {},
   "outputs": [],
   "source": [
    "# Dividir datos en características y variable objetivo\n",
    "X = data.drop('target', axis=1)\n",
    "y = data['target']"
   ]
  },
  {
   "cell_type": "code",
   "execution_count": null,
   "id": "a0f24f9c-a865-4568-acaf-15b4103c7b0f",
   "metadata": {},
   "outputs": [],
   "source": [
    "# Dividir datos en entrenamiento y prueba\n",
    "X_train, X_test, y_train, y_test = train_test_split(X, y, test_size=0.2, random_state=42)\n"
   ]
  },
  {
   "cell_type": "code",
   "execution_count": null,
   "id": "0901af72-7dff-4d6c-89f9-38f03b8f32ff",
   "metadata": {},
   "outputs": [],
   "source": [
    "# Inicializar y entrenar modelo de regresión logística\n",
    "model = LogisticRegression()\n",
    "model.fit(X_train, y_train)"
   ]
  }
 ],
 "metadata": {
  "kernelspec": {
   "display_name": "Python 3 (ipykernel)",
   "language": "python",
   "name": "python3"
  },
  "language_info": {
   "codemirror_mode": {
    "name": "ipython",
    "version": 3
   },
   "file_extension": ".py",
   "mimetype": "text/x-python",
   "name": "python",
   "nbconvert_exporter": "python",
   "pygments_lexer": "ipython3",
   "version": "3.11.7"
  }
 },
 "nbformat": 4,
 "nbformat_minor": 5
}
